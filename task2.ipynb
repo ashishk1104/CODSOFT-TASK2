{
 "cells": [
  {
   "cell_type": "code",
   "execution_count": 1,
   "id": "a895706f-385a-4eea-9d50-dd983b037c5a",
   "metadata": {},
   "outputs": [
    {
     "name": "stdout",
     "output_type": "stream",
     "text": [
      "Simple Calculator\n"
     ]
    },
    {
     "name": "stdin",
     "output_type": "stream",
     "text": [
      "Enter the first number:  9\n",
      "Enter the second number:  4\n",
      "Enter the operation (+, -, *, /):  *\n"
     ]
    },
    {
     "name": "stdout",
     "output_type": "stream",
     "text": [
      "The result is: 36.0\n"
     ]
    },
    {
     "name": "stdin",
     "output_type": "stream",
     "text": [
      "Do you want to perform another calculation? (y/n):  N\n"
     ]
    }
   ],
   "source": [
    "def add(a, b):\n",
    "    return a + b\n",
    "\n",
    "def subtract(a, b):\n",
    "    return a - b\n",
    "\n",
    "def multiply(a, b):\n",
    "    return a * b\n",
    "\n",
    "def divide(a, b):\n",
    "    if b == 0:\n",
    "        return \"Error: Division by zero\"\n",
    "    return a / b\n",
    "\n",
    "def calculate(a, b, operation):\n",
    "    if operation == '+':\n",
    "        return add(a, b)\n",
    "    elif operation == '-':\n",
    "        return subtract(a, b)\n",
    "    elif operation == '*':\n",
    "        return multiply(a, b)\n",
    "    elif operation == '/':\n",
    "        return divide(a, b)\n",
    "    else:\n",
    "        return \"Invalid operation\"\n",
    "\n",
    "def main():\n",
    "    print(\"Simple Calculator\")\n",
    "    while True:\n",
    "        try:\n",
    "            num1 = float(input(\"Enter the first number: \"))\n",
    "            num2 = float(input(\"Enter the second number: \"))\n",
    "            operation = input(\"Enter the operation (+, -, *, /): \")\n",
    "\n",
    "            result = calculate(num1, num2, operation)\n",
    "            print(f\"The result is: {result}\")\n",
    "\n",
    "            cont = input(\"Do you want to perform another calculation? (y/n): \").lower()\n",
    "            if cont != 'y':\n",
    "                break\n",
    "        except ValueError:\n",
    "            print(\"Invalid input. Please enter numeric values for numbers.\")\n",
    "\n",
    "if __name__ == \"__main__\":\n",
    "    main()\n"
   ]
  }
 ],
 "metadata": {
  "kernelspec": {
   "display_name": "Python 3 (ipykernel)",
   "language": "python",
   "name": "python3"
  },
  "language_info": {
   "codemirror_mode": {
    "name": "ipython",
    "version": 3
   },
   "file_extension": ".py",
   "mimetype": "text/x-python",
   "name": "python",
   "nbconvert_exporter": "python",
   "pygments_lexer": "ipython3",
   "version": "3.11.4"
  }
 },
 "nbformat": 4,
 "nbformat_minor": 5
}
